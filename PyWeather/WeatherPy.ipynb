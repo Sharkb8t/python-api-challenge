{
 "cells": [
  {
   "cell_type": "markdown",
   "metadata": {},
   "source": [
    "# WeatherPy: OpenWeatherAPI Data\n",
    "\n",
    "---\n",
    "\n",
    "## Generate Random Geographic Coordinates and a List of Cities"
   ]
  },
  {
   "cell_type": "code",
   "execution_count": 2,
   "metadata": {
    "scrolled": true
   },
   "outputs": [],
   "source": [
    "# Dependencies and Setup\n",
    "import matplotlib.pyplot as plt\n",
    "import pandas as pd\n",
    "import numpy as np\n",
    "import requests\n",
    "import time\n",
    "from scipy.stats import linregress\n",
    "\n",
    "# Impor the OpenWeatherMap API key\n",
    "from api_keys import weather_api_key\n",
    "\n",
    "# Import citipy to determine the cities based on latitude and longitude\n",
    "from citipy import citipy"
   ]
  },
  {
   "cell_type": "markdown",
   "metadata": {},
   "source": [
    "### Generate the Cities List by Using the `citipy` Library"
   ]
  },
  {
   "cell_type": "code",
   "execution_count": 5,
   "metadata": {},
   "outputs": [
    {
     "name": "stdout",
     "output_type": "stream",
     "text": [
      "Number of cities in the list: 593\n"
     ]
    }
   ],
   "source": [
    "# Empty list for holding the latitude and longitude combinations\n",
    "lat_lngs = []\n",
    "\n",
    "# Empty list for holding the cities names\n",
    "cities = []\n",
    "\n",
    "# Range of latitudes and longitudes\n",
    "lat_range = (-90, 90)\n",
    "lng_range = (-180, 180)\n",
    "\n",
    "# Create a set of random lat and lng combinations\n",
    "lats = np.random.uniform(lat_range[0], lat_range[1], size=1500)\n",
    "lngs = np.random.uniform(lng_range[0], lng_range[1], size=1500)\n",
    "lat_lngs = zip(lats, lngs)\n",
    "\n",
    "# Identify nearest city for each lat, lng combination\n",
    "for lat_lng in lat_lngs:\n",
    "    city = citipy.nearest_city(lat_lng[0], lat_lng[1]).city_name\n",
    "\n",
    "    # If the city is unique, then add it to a our cities list\n",
    "    if city not in cities:\n",
    "        cities.append(city)\n",
    "\n",
    "# Print the city count to confirm sufficient count\n",
    "print(f\"Number of cities in the list: {len(cities)}\")"
   ]
  },
  {
   "cell_type": "markdown",
   "metadata": {},
   "source": [
    "---"
   ]
  },
  {
   "cell_type": "markdown",
   "metadata": {},
   "source": [
    "## Requirement 1: Create Plots to Showcase the Relationship Between Weather Variables and Latitude\n",
    "\n",
    "### Use the OpenWeatherMap API to retrieve weather data from the cities list generated in the started code"
   ]
  },
  {
   "cell_type": "code",
   "execution_count": null,
   "metadata": {},
   "outputs": [
    {
     "name": "stdout",
     "output_type": "stream",
     "text": [
      "    Beginning Data Retrieval     \n",
      "---------------------------------\n",
      "Processing Record 1 of Set 1 | aasiaat\n",
      "Processing Record 2 of Set 1 | atafu village\n",
      "Processing Record 3 of Set 1 | adamstown\n",
      "Processing Record 4 of Set 1 | constantia\n",
      "Processing Record 5 of Set 1 | mount pearl\n",
      "Processing Record 6 of Set 1 | qaqortoq\n",
      "Processing Record 7 of Set 1 | invercargill\n",
      "Processing Record 8 of Set 1 | kodiak\n",
      "Processing Record 9 of Set 1 | port-aux-francais\n",
      "Processing Record 10 of Set 1 | berbera\n",
      "Processing Record 11 of Set 1 | bredasdorp\n",
      "Processing Record 12 of Set 1 | iskateley\n",
      "Processing Record 13 of Set 1 | utrik\n",
      "Processing Record 14 of Set 1 | oakdale\n",
      "Processing Record 15 of Set 1 | tierp\n",
      "Processing Record 16 of Set 1 | hermanus\n",
      "Processing Record 17 of Set 1 | berezovyy\n",
      "Processing Record 18 of Set 1 | bethel\n",
      "Processing Record 19 of Set 1 | guerrero negro\n",
      "Processing Record 20 of Set 1 | albany\n",
      "Processing Record 21 of Set 1 | nar'yan-mar\n",
      "Processing Record 22 of Set 1 | hwange\n",
      "Processing Record 23 of Set 1 | xining\n",
      "Processing Record 24 of Set 1 | ushuaia\n",
      "Processing Record 25 of Set 1 | waitangi\n",
      "Processing Record 26 of Set 1 | ilulissat\n",
      "Processing Record 27 of Set 1 | san antonio de pale\n",
      "Processing Record 28 of Set 1 | puerto ayora\n",
      "Processing Record 29 of Set 1 | ust-nera\n",
      "Processing Record 30 of Set 1 | suva\n",
      "Processing Record 31 of Set 1 | lebu\n",
      "Processing Record 32 of Set 1 | vorgashor\n",
      "Processing Record 33 of Set 1 | aykhal\n",
      "Processing Record 34 of Set 1 | longyearbyen\n",
      "Processing Record 35 of Set 1 | rongelap\n",
      "Processing Record 36 of Set 1 | longonjo\n",
      "Processing Record 37 of Set 1 | pingdingshan\n",
      "Processing Record 38 of Set 1 | acarau\n",
      "Processing Record 39 of Set 1 | vadso\n",
      "Processing Record 40 of Set 1 | klyuchi\n",
      "Processing Record 41 of Set 1 | ponta delgada\n",
      "Processing Record 42 of Set 1 | iqaluit\n",
      "Processing Record 43 of Set 1 | katsuura\n",
      "Processing Record 44 of Set 1 | rezekne\n",
      "Processing Record 45 of Set 1 | ardesen\n",
      "Processing Record 46 of Set 1 | port elizabeth\n",
      "Processing Record 47 of Set 1 | gebeit\n",
      "Processing Record 48 of Set 1 | hadibu\n",
      "Processing Record 49 of Set 1 | laguna\n",
      "Processing Record 50 of Set 1 | luderitz\n",
      "Processing Record 0 of Set 2 | jamestown\n",
      "Processing Record 1 of Set 2 | juneau\n",
      "Processing Record 2 of Set 2 | avarua\n",
      "Processing Record 3 of Set 2 | rio grande\n",
      "Processing Record 4 of Set 2 | shihezi\n",
      "Processing Record 5 of Set 2 | christchurch\n",
      "Processing Record 6 of Set 2 | olonkinbyen\n",
      "Processing Record 7 of Set 2 | aral\n",
      "Processing Record 8 of Set 2 | soc trang\n",
      "Processing Record 9 of Set 2 | tazovsky\n",
      "Processing Record 10 of Set 2 | yellowknife\n",
      "Processing Record 11 of Set 2 | west island\n",
      "Processing Record 12 of Set 2 | isafjordur\n",
      "Processing Record 13 of Set 2 | bol\n",
      "Processing Record 14 of Set 2 | thompson\n",
      "Processing Record 15 of Set 2 | vila franca do campo\n",
      "Processing Record 16 of Set 2 | sterling\n",
      "Processing Record 17 of Set 2 | grytviken\n",
      "Processing Record 18 of Set 2 | carutapera\n",
      "Processing Record 19 of Set 2 | puerto colombia\n",
      "Processing Record 20 of Set 2 | jammu\n",
      "Processing Record 21 of Set 2 | pisco\n",
      "Processing Record 22 of Set 2 | papatowai\n",
      "Processing Record 23 of Set 2 | dalandzadgad\n",
      "Processing Record 24 of Set 2 | vilyuchinsk\n",
      "Processing Record 25 of Set 2 | taiohae\n",
      "City not found. Skipping...\n",
      "Processing Record 26 of Set 2 | susuman\n",
      "Processing Record 27 of Set 2 | minas\n",
      "Processing Record 28 of Set 2 | kerikeri\n",
      "Processing Record 29 of Set 2 | college\n",
      "Processing Record 30 of Set 2 | edinburgh of the seven seas\n",
      "Processing Record 31 of Set 2 | san pedro\n",
      "Processing Record 32 of Set 2 | mitsamiouli\n",
      "Processing Record 33 of Set 2 | port alfred\n",
      "Processing Record 34 of Set 2 | palikir - national government center\n",
      "Processing Record 35 of Set 2 | santana\n",
      "Processing Record 36 of Set 2 | thunder bay\n",
      "Processing Record 37 of Set 2 | fujinomiya\n",
      "Processing Record 38 of Set 2 | severo-yeniseyskiy\n",
      "Processing Record 39 of Set 2 | georgetown\n",
      "Processing Record 40 of Set 2 | udachny\n",
      "Processing Record 41 of Set 2 | polyarnyy\n",
      "Processing Record 42 of Set 2 | qarqaraly\n",
      "Processing Record 43 of Set 2 | tiksi\n",
      "Processing Record 44 of Set 2 | new norfolk\n",
      "Processing Record 45 of Set 2 | espargos\n",
      "City not found. Skipping...\n",
      "Processing Record 46 of Set 2 | maintirano\n",
      "Processing Record 47 of Set 2 | alotau\n",
      "Processing Record 48 of Set 2 | vikhorevka\n",
      "Processing Record 49 of Set 2 | puerto natales\n",
      "Processing Record 0 of Set 3 | luanda\n",
      "Processing Record 1 of Set 3 | mizdah\n",
      "Processing Record 2 of Set 3 | karungdong\n",
      "Processing Record 3 of Set 3 | terenozek\n",
      "Processing Record 4 of Set 3 | dudinka\n",
      "Processing Record 5 of Set 3 | tanrake village\n",
      "City not found. Skipping...\n",
      "Processing Record 6 of Set 3 | mount isa\n",
      "Processing Record 7 of Set 3 | wailua homesteads\n",
      "Processing Record 8 of Set 3 | miramichi\n",
      "Processing Record 9 of Set 3 | ouadda\n",
      "Processing Record 10 of Set 3 | aleksandrovsk-sakhalinskiy\n",
      "Processing Record 11 of Set 3 | cill airne\n",
      "Processing Record 12 of Set 3 | kolyshley\n",
      "Processing Record 13 of Set 3 | blackmans bay\n",
      "Processing Record 14 of Set 3 | evanston\n",
      "Processing Record 15 of Set 3 | fale old settlement\n",
      "Processing Record 16 of Set 3 | baro\n",
      "Processing Record 17 of Set 3 | port lincoln\n",
      "Processing Record 18 of Set 3 | kiunga\n",
      "Processing Record 19 of Set 3 | torit\n",
      "Processing Record 20 of Set 3 | badger\n",
      "Processing Record 21 of Set 3 | berdigestyakh\n",
      "Processing Record 22 of Set 3 | gallup\n",
      "Processing Record 23 of Set 3 | berdyansk\n",
      "Processing Record 24 of Set 3 | whitehorse\n",
      "Processing Record 25 of Set 3 | nouadhibou\n",
      "Processing Record 26 of Set 3 | sanming\n",
      "Processing Record 27 of Set 3 | haiku-pauwela\n",
      "Processing Record 28 of Set 3 | fort bragg\n",
      "Processing Record 29 of Set 3 | saint-francois\n",
      "Processing Record 30 of Set 3 | sagae\n",
      "Processing Record 31 of Set 3 | port mathurin\n",
      "Processing Record 32 of Set 3 | uttar char fasson\n",
      "Processing Record 33 of Set 3 | margaret river\n",
      "Processing Record 34 of Set 3 | zvishavane\n",
      "Processing Record 35 of Set 3 | howard springs\n",
      "Processing Record 36 of Set 3 | klaksvik\n",
      "Processing Record 37 of Set 3 | nalut\n",
      "Processing Record 38 of Set 3 | stanley\n",
      "Processing Record 39 of Set 3 | inhambane\n",
      "Processing Record 40 of Set 3 | aberdeen\n",
      "Processing Record 41 of Set 3 | masina\n",
      "Processing Record 42 of Set 3 | kandahar\n",
      "Processing Record 43 of Set 3 | saint-pierre\n",
      "Processing Record 44 of Set 3 | basirpur\n",
      "Processing Record 45 of Set 3 | general pico\n",
      "Processing Record 46 of Set 3 | egilsstadir\n",
      "Processing Record 47 of Set 3 | wynyard\n",
      "Processing Record 48 of Set 3 | namibe\n",
      "Processing Record 49 of Set 3 | hancheng\n",
      "Processing Record 0 of Set 4 | bodaybo\n",
      "Processing Record 1 of Set 4 | punta arenas\n",
      "Processing Record 2 of Set 4 | hasaki\n",
      "Processing Record 3 of Set 4 | tura\n",
      "Processing Record 4 of Set 4 | ituango\n",
      "Processing Record 5 of Set 4 | isangel\n",
      "Processing Record 6 of Set 4 | sitka\n",
      "Processing Record 7 of Set 4 | maevatanana\n",
      "Processing Record 8 of Set 4 | arkhangel'sk\n",
      "Processing Record 9 of Set 4 | lihue\n",
      "Processing Record 10 of Set 4 | moroni\n",
      "Processing Record 11 of Set 4 | ivnya\n",
      "Processing Record 12 of Set 4 | rieti\n",
      "Processing Record 13 of Set 4 | illapel\n",
      "Processing Record 14 of Set 4 | paimpol\n",
      "Processing Record 15 of Set 4 | enewetak\n",
      "Processing Record 16 of Set 4 | monterey\n",
      "Processing Record 17 of Set 4 | palmer\n",
      "Processing Record 18 of Set 4 | lata\n",
      "Processing Record 19 of Set 4 | happy valley-goose bay\n",
      "Processing Record 20 of Set 4 | carranglan\n",
      "Processing Record 21 of Set 4 | vernon\n",
      "Processing Record 22 of Set 4 | newnham\n",
      "Processing Record 23 of Set 4 | udaipur\n",
      "Processing Record 24 of Set 4 | erenhot\n",
      "Processing Record 25 of Set 4 | farasan\n",
      "Processing Record 26 of Set 4 | ma'rib\n",
      "Processing Record 27 of Set 4 | ushtobe\n",
      "Processing Record 28 of Set 4 | tegal\n",
      "Processing Record 29 of Set 4 | pittsburg\n",
      "Processing Record 30 of Set 4 | bereznik\n",
      "Processing Record 31 of Set 4 | hammerfest\n",
      "Processing Record 32 of Set 4 | rock springs\n",
      "Processing Record 33 of Set 4 | kingston\n",
      "Processing Record 34 of Set 4 | soligalich\n",
      "Processing Record 35 of Set 4 | fonadhoo\n",
      "City not found. Skipping...\n",
      "Processing Record 36 of Set 4 | usinsk\n",
      "Processing Record 37 of Set 4 | mount gambier\n",
      "Processing Record 38 of Set 4 | rio branco\n",
      "Processing Record 39 of Set 4 | broken hill\n",
      "Processing Record 40 of Set 4 | uzda\n",
      "Processing Record 41 of Set 4 | gadzhiyevo\n",
      "Processing Record 42 of Set 4 | lorengau\n",
      "Processing Record 43 of Set 4 | khagrachhari\n",
      "Processing Record 44 of Set 4 | weno\n",
      "Processing Record 45 of Set 4 | narrabri\n",
      "Processing Record 46 of Set 4 | heyuan\n",
      "Processing Record 47 of Set 4 | ketchikan\n",
      "Processing Record 48 of Set 4 | sejenane\n",
      "Processing Record 49 of Set 4 | namtsy\n",
      "Processing Record 0 of Set 5 | plastun\n",
      "Processing Record 1 of Set 5 | kapa'a\n",
      "Processing Record 2 of Set 5 | zouerate\n",
      "Processing Record 3 of Set 5 | yoro\n",
      "Processing Record 4 of Set 5 | parabel'\n",
      "Processing Record 5 of Set 5 | qamdo\n",
      "Processing Record 6 of Set 5 | richards bay\n",
      "Processing Record 7 of Set 5 | anadyr\n",
      "Processing Record 8 of Set 5 | boende\n",
      "Processing Record 9 of Set 5 | arno\n",
      "Processing Record 10 of Set 5 | uturoa\n",
      "Processing Record 11 of Set 5 | afaahiti\n",
      "Processing Record 12 of Set 5 | shumikha\n",
      "Processing Record 13 of Set 5 | arraial do cabo\n",
      "Processing Record 14 of Set 5 | salacgriva\n",
      "Processing Record 15 of Set 5 | port douglas\n",
      "Processing Record 16 of Set 5 | chela\n",
      "Processing Record 17 of Set 5 | spearfish\n",
      "Processing Record 18 of Set 5 | kailua-kona\n",
      "Processing Record 19 of Set 5 | port isabel\n",
      "Processing Record 20 of Set 5 | kavieng\n",
      "Processing Record 21 of Set 5 | an nuhud\n",
      "Processing Record 22 of Set 5 | aswan\n",
      "Processing Record 23 of Set 5 | ballina\n",
      "Processing Record 24 of Set 5 | greymouth\n",
      "Processing Record 25 of Set 5 | hawaiian paradise park\n",
      "Processing Record 26 of Set 5 | kapuskasing\n",
      "Processing Record 27 of Set 5 | manakara\n",
      "Processing Record 28 of Set 5 | ambovombe\n",
      "Processing Record 29 of Set 5 | tikhvin\n",
      "Processing Record 30 of Set 5 | coahuayana de hidalgo\n",
      "Processing Record 31 of Set 5 | dauphin\n",
      "Processing Record 32 of Set 5 | vikulovo\n",
      "Processing Record 33 of Set 5 | vilyuysk\n",
      "Processing Record 34 of Set 5 | remire-montjoly\n",
      "Processing Record 35 of Set 5 | nadym\n",
      "Processing Record 36 of Set 5 | cargados carajos\n",
      "City not found. Skipping...\n",
      "Processing Record 37 of Set 5 | hardys memories of africa\n",
      "City not found. Skipping...\n",
      "Processing Record 38 of Set 5 | huangnihe\n",
      "Processing Record 39 of Set 5 | dhuusamarreeb\n",
      "Processing Record 40 of Set 5 | ofunato\n",
      "Processing Record 41 of Set 5 | coruripe\n",
      "Processing Record 42 of Set 5 | roosevelt\n",
      "Processing Record 43 of Set 5 | maxixe\n",
      "Processing Record 44 of Set 5 | mlowo\n",
      "Processing Record 45 of Set 5 | nikolayevsk-on-amure\n",
      "Processing Record 46 of Set 5 | damongo\n",
      "City not found. Skipping...\n",
      "Processing Record 47 of Set 5 | sola\n",
      "Processing Record 48 of Set 5 | yelm\n",
      "Processing Record 49 of Set 5 | karratha\n",
      "Processing Record 0 of Set 6 | kirensk\n"
     ]
    }
   ],
   "source": [
    "# Set the API base URL\n",
    "url = \"http://api.openweathermap.org/data/2.5/weather?appid=\" + weather_api_key + \"&units=metric&q=\"\n",
    "\n",
    "# Define an empty list to fetch the weather data for each city\n",
    "city_data = []\n",
    "\n",
    "# Print to logger\n",
    "print(\"    Beginning Data Retrieval     \")\n",
    "print(\"---------------------------------\")\n",
    "\n",
    "# Create counters\n",
    "record_count = 1\n",
    "set_count = 1\n",
    "\n",
    "# Loop through all the cities in our list to fetch weather data\n",
    "for i, city in enumerate(cities):\n",
    "\n",
    "    # Group cities in sets of 50 for logging purposes\n",
    "    if (i % 50 == 0 and i >= 50):\n",
    "        set_count += 1\n",
    "        record_count = 0\n",
    "\n",
    "    # Create endpoint URL with each city\n",
    "    city_url = url + city.replace(\" \", \"%20\")\n",
    "\n",
    "    # Log the url, record, and set numbers\n",
    "    print(\"Processing Record %s of Set %s | %s\" % (record_count, set_count, city))\n",
    "\n",
    "    # Add 1 to the record count\n",
    "    record_count += 1\n",
    "\n",
    "    # Run an API request for each of the cities\n",
    "    try:\n",
    "        # Parse the JSON and retrieve data\n",
    "        city_weather = requests.get(city_url).json()\n",
    "\n",
    "        # Parse out latitude, longitude, max temp, humidity, cloudiness, wind speed, country, and date\n",
    "        city_lat = city_weather[\"coord\"][\"lat\"]\n",
    "        city_lng = city_weather[\"coord\"][\"lon\"]\n",
    "        city_max_temp = city_weather[\"main\"][\"temp_max\"]\n",
    "        city_humidity = city_weather[\"main\"][\"humidity\"]\n",
    "        city_clouds = city_weather[\"clouds\"][\"all\"]\n",
    "        city_wind = city_weather[\"wind\"][\"speed\"]\n",
    "        city_country = city_weather[\"sys\"][\"country\"]\n",
    "        city_date = city_weather[\"dt\"]\n",
    "\n",
    "        # Append the City information into city_data list\n",
    "        city_data.append({\"City\": city,\n",
    "                          \"Lat\": city_lat,\n",
    "                          \"Lng\": city_lng,\n",
    "                          \"Max Temp\": city_max_temp,\n",
    "                          \"Humidity\": city_humidity,\n",
    "                          \"Cloudiness\": city_clouds,\n",
    "                          \"Wind Speed\": city_wind,\n",
    "                          \"Country\": city_country,\n",
    "                          \"Date\": city_date})\n",
    "\n",
    "    # If an error is encountered, skip the city\n",
    "    except:\n",
    "        print(\"City not found. Skipping...\")\n",
    "        pass\n",
    "\n",
    "    # Pause pull to avoid rate limiting\n",
    "    time.sleep(1)\n",
    "\n",
    "# Indicate that Data Loading is complete\n",
    "print(\"-----------------------------------\")\n",
    "print(\"      Data Retrieval Complete      \")\n",
    "print(\"-----------------------------------\")"
   ]
  },
  {
   "cell_type": "code",
   "execution_count": null,
   "metadata": {},
   "outputs": [],
   "source": [
    "# Convert the cities weather data into a Pandas DataFrame\n",
    "city_data_df = # YOUR CODE HERE\n",
    "\n",
    "# Show Record Count\n",
    "city_data_df.count()"
   ]
  },
  {
   "cell_type": "code",
   "execution_count": null,
   "metadata": {},
   "outputs": [],
   "source": [
    "# Display sample data\n",
    "city_data_df.head()"
   ]
  },
  {
   "cell_type": "code",
   "execution_count": null,
   "metadata": {},
   "outputs": [],
   "source": [
    "# Export the City_Data into a csv\n",
    "city_data_df.to_csv(\"output_data/cities.csv\", index_label=\"City_ID\")"
   ]
  },
  {
   "cell_type": "code",
   "execution_count": null,
   "metadata": {},
   "outputs": [],
   "source": [
    "# Read saved data\n",
    "city_data_df = pd.read_csv(\"output_data/cities.csv\", index_col=\"City_ID\")\n",
    "\n",
    "# Display sample data\n",
    "city_data_df.head()"
   ]
  },
  {
   "cell_type": "markdown",
   "metadata": {},
   "source": [
    "### Create the Scatter Plots Requested\n",
    "\n",
    "#### Latitude Vs. Temperature"
   ]
  },
  {
   "cell_type": "code",
   "execution_count": null,
   "metadata": {
    "tags": []
   },
   "outputs": [],
   "source": [
    "# Build scatter plot for latitude vs. temperature\n",
    "# YOUR CODE HERE\n",
    "\n",
    "# Incorporate the other graph properties\n",
    "# YOUR CODE HERE\n",
    "\n",
    "# Save the figure\n",
    "plt.savefig(\"output_data/Fig1.png\")\n",
    "\n",
    "# Show plot\n",
    "plt.show()"
   ]
  },
  {
   "cell_type": "markdown",
   "metadata": {},
   "source": [
    "#### Latitude Vs. Humidity"
   ]
  },
  {
   "cell_type": "code",
   "execution_count": null,
   "metadata": {},
   "outputs": [],
   "source": [
    "# Build the scatter plots for latitude vs. humidity\n",
    "# YOUR CODE HERE\n",
    "\n",
    "# Incorporate the other graph properties\n",
    "# YOUR CODE HERE\n",
    "\n",
    "# Save the figure\n",
    "plt.savefig(\"output_data/Fig2.png\")\n",
    "\n",
    "# Show plot\n",
    "plt.show()"
   ]
  },
  {
   "cell_type": "markdown",
   "metadata": {},
   "source": [
    "#### Latitude Vs. Cloudiness"
   ]
  },
  {
   "cell_type": "code",
   "execution_count": null,
   "metadata": {},
   "outputs": [],
   "source": [
    "# Build the scatter plots for latitude vs. cloudiness\n",
    "# YOUR CODE HERE\n",
    "\n",
    "# Incorporate the other graph properties\n",
    "# YOUR CODE HERE\n",
    "\n",
    "# Save the figure\n",
    "plt.savefig(\"output_data/Fig3.png\")\n",
    "\n",
    "# Show plot\n",
    "plt.show()"
   ]
  },
  {
   "cell_type": "markdown",
   "metadata": {},
   "source": [
    "#### Latitude vs. Wind Speed Plot"
   ]
  },
  {
   "cell_type": "code",
   "execution_count": null,
   "metadata": {},
   "outputs": [],
   "source": [
    "# Build the scatter plots for latitude vs. wind speed\n",
    "# YOUR CODE HERE\n",
    "\n",
    "# Incorporate the other graph properties\n",
    "# YOUR CODE HERE\n",
    "\n",
    "# Save the figure\n",
    "plt.savefig(\"output_data/Fig4.png\")\n",
    "\n",
    "# Show plot\n",
    "plt.show()"
   ]
  },
  {
   "cell_type": "markdown",
   "metadata": {},
   "source": [
    "---\n",
    "\n",
    "## Requirement 2: Compute Linear Regression for Each Relationship\n"
   ]
  },
  {
   "cell_type": "code",
   "execution_count": null,
   "metadata": {},
   "outputs": [],
   "source": [
    "# Define a function to create Linear Regression plots\n",
    "# YOUR CODE HERE"
   ]
  },
  {
   "cell_type": "code",
   "execution_count": null,
   "metadata": {},
   "outputs": [],
   "source": [
    "# Create a DataFrame with the Northern Hemisphere data (Latitude >= 0)\n",
    "# YOUR CODE HERE\n",
    "\n",
    "# Display sample data\n",
    "northern_hemi_df.head()"
   ]
  },
  {
   "cell_type": "code",
   "execution_count": null,
   "metadata": {},
   "outputs": [],
   "source": [
    "# Create a DataFrame with the Southern Hemisphere data (Latitude < 0)\n",
    "# YOUR CODE HERE\n",
    "\n",
    "# Display sample data\n",
    "southern_hemi_df.head()"
   ]
  },
  {
   "cell_type": "markdown",
   "metadata": {},
   "source": [
    "###  Temperature vs. Latitude Linear Regression Plot"
   ]
  },
  {
   "cell_type": "code",
   "execution_count": null,
   "metadata": {},
   "outputs": [],
   "source": [
    "# Linear regression on Northern Hemisphere\n",
    "# YOUR CODE HERE"
   ]
  },
  {
   "cell_type": "code",
   "execution_count": null,
   "metadata": {},
   "outputs": [],
   "source": [
    "# Linear regression on Southern Hemisphere\n",
    "# YOUR CODE HERE"
   ]
  },
  {
   "cell_type": "markdown",
   "metadata": {},
   "source": [
    "**Discussion about the linear relationship:** YOUR RESPONSE HERE"
   ]
  },
  {
   "cell_type": "markdown",
   "metadata": {},
   "source": [
    "### Humidity vs. Latitude Linear Regression Plot"
   ]
  },
  {
   "cell_type": "code",
   "execution_count": null,
   "metadata": {},
   "outputs": [],
   "source": [
    "# Northern Hemisphere\n",
    "# YOUR CODE HERE"
   ]
  },
  {
   "cell_type": "code",
   "execution_count": null,
   "metadata": {},
   "outputs": [],
   "source": [
    "# Southern Hemisphere\n",
    "# YOUR CODE HERE"
   ]
  },
  {
   "cell_type": "markdown",
   "metadata": {},
   "source": [
    "**Discussion about the linear relationship:** YOUR RESPONSE HERE"
   ]
  },
  {
   "cell_type": "markdown",
   "metadata": {},
   "source": [
    "### Cloudiness vs. Latitude Linear Regression Plot"
   ]
  },
  {
   "cell_type": "code",
   "execution_count": null,
   "metadata": {},
   "outputs": [],
   "source": [
    "# Northern Hemisphere\n",
    "# YOUR CODE HERE"
   ]
  },
  {
   "cell_type": "code",
   "execution_count": null,
   "metadata": {},
   "outputs": [],
   "source": [
    "# Southern Hemisphere\n",
    "# YOUR CODE HERE"
   ]
  },
  {
   "cell_type": "markdown",
   "metadata": {},
   "source": [
    "**Discussion about the linear relationship:** YOUR RESPONSE HERE"
   ]
  },
  {
   "cell_type": "markdown",
   "metadata": {},
   "source": [
    "### Wind Speed vs. Latitude Linear Regression Plot"
   ]
  },
  {
   "cell_type": "code",
   "execution_count": null,
   "metadata": {},
   "outputs": [],
   "source": [
    "# Northern Hemisphere\n",
    "# YOUR CODE HERE"
   ]
  },
  {
   "cell_type": "code",
   "execution_count": null,
   "metadata": {},
   "outputs": [],
   "source": [
    "# Southern Hemisphere\n",
    "# YOUR CODE HERE"
   ]
  },
  {
   "cell_type": "markdown",
   "metadata": {},
   "source": [
    "**Discussion about the linear relationship:** YOUR RESPONSE HERE"
   ]
  },
  {
   "cell_type": "code",
   "execution_count": null,
   "metadata": {},
   "outputs": [],
   "source": []
  }
 ],
 "metadata": {
  "anaconda-cloud": {},
  "kernel_info": {
   "name": "python3"
  },
  "kernelspec": {
   "display_name": "Python [conda env:anaconda3]",
   "language": "python",
   "name": "conda-env-anaconda3-py"
  },
  "language_info": {
   "codemirror_mode": {
    "name": "ipython",
    "version": 3
   },
   "file_extension": ".py",
   "mimetype": "text/x-python",
   "name": "python",
   "nbconvert_exporter": "python",
   "pygments_lexer": "ipython3",
   "version": "3.12.7"
  },
  "latex_envs": {
   "LaTeX_envs_menu_present": true,
   "autoclose": false,
   "autocomplete": true,
   "bibliofile": "biblio.bib",
   "cite_by": "apalike",
   "current_citInitial": 1,
   "eqLabelWithNumbers": true,
   "eqNumInitial": 1,
   "hotkeys": {
    "equation": "Ctrl-E",
    "itemize": "Ctrl-I"
   },
   "labels_anchors": false,
   "latex_user_defs": false,
   "report_style_numbering": false,
   "user_envs_cfg": false
  },
  "nteract": {
   "version": "0.12.3"
  }
 },
 "nbformat": 4,
 "nbformat_minor": 4
}
